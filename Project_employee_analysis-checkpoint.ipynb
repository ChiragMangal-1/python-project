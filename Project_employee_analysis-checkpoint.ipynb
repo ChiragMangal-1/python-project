{
 "cells": [
  {
   "cell_type": "code",
   "execution_count": null,
   "id": "7b3387fd-ddc0-4307-88a0-ec72ea7beba5",
   "metadata": {},
   "outputs": [],
   "source": [
    "##Task 1 : There are three different tables as given above. Please make three dataframe in python and save them as three .csv files.\n",
    "## From Task 2 to Task 10, use the saved .csv files only. "
   ]
  },
  {
   "cell_type": "code",
   "execution_count": 2,
   "id": "91bc5adf-6765-45e5-a683-209fcdd9335c",
   "metadata": {},
   "outputs": [],
   "source": [
    "import pandas as pd\n",
    "import numpy as np\n"
   ]
  },
  {
   "cell_type": "code",
   "execution_count": 3,
   "id": "e3874e7f-1509-4f41-8eb9-45418cc2f0ed",
   "metadata": {},
   "outputs": [],
   "source": [
    "# Employee Data\n",
    "employee_array = np.array([\n",
    "    ['A001', 'John Alter', 'M', 'Paris', 25],\n",
    "    ['A002', 'Alice Luxumberg', 'F', 'London', 27],\n",
    "    ['A003', 'Tom Sabestine', 'M', 'Berlin', 29],\n",
    "    ['A004', 'Nina Adgra', 'F', 'Newyork', 31],\n",
    "    ['A005', 'Amy Johny', 'F', 'Madrid', 30]\n",
    "])\n",
    "\n",
    "df_employee = pd.DataFrame(employee_array, columns=['ID', 'Name', 'Gender', 'City', 'Age'])\n",
    "df_employee['Age'] = df_employee['Age'].astype(int)\n"
   ]
  },
  {
   "cell_type": "code",
   "execution_count": 5,
   "id": "1f48605f-0f5f-46a0-b92e-1d8269a1e448",
   "metadata": {},
   "outputs": [],
   "source": [
    "# Seniority Level\n",
    "seniority_array = np.array([\n",
    "    ['A001', 2],\n",
    "    ['A002', 2],\n",
    "    ['A003', 3],\n",
    "    ['A004', 2],\n",
    "    ['A005', 3]\n",
    "])\n",
    "\n",
    "df_seniority = pd.DataFrame(seniority_array, columns=['ID', 'Designation Level'])\n",
    "df_seniority['Designation Level'] = df_seniority['Designation Level'].astype(int)\n"
   ]
  },
  {
   "cell_type": "code",
   "execution_count": 6,
   "id": "9f3c197e-e717-4493-97d5-298e51bdeb52",
   "metadata": {},
   "outputs": [],
   "source": [
    "# Project Data\n",
    "project_array = np.array([\n",
    "    ['A001', 'Project 1', 1002000, 'Finished'],\n",
    "    ['A002', 'Project 2', 2000000, 'Ongoing'],\n",
    "    ['A003', 'Project 3', 4500000, 'Finished'],\n",
    "    ['A004', 'Project 4', 5500000, 'Ongoing'],\n",
    "    ['A005', 'Project 5', np.nan, 'Finished'],\n",
    "    ['A002', 'Project 6', 680000, 'Failed'],\n",
    "    ['A005', 'Project 7', 400000, 'Finished'],\n",
    "    ['A003', 'Project 8', 350000, 'Failed'],\n",
    "    ['A001', 'Project 9', np.nan, 'Ongoing'],\n",
    "    ['A003', 'Project 10', 300000, 'Finished'],\n",
    "    ['A001', 'Project 11', 2000000, 'Failed'],\n",
    "    ['A004', 'Project 12', 1000000, 'Ongoing'],\n",
    "    ['A004', 'Project 13', 3000000, 'Finished'],\n",
    "    ['A005', 'Project 14', 200000, 'Finished']\n",
    "])\n",
    "\n",
    "df_projects = pd.DataFrame(project_array, columns=['ID', 'Project', 'Cost', 'Status'])\n",
    "df_projects['Cost'] = pd.to_numeric(df_projects['Cost'], errors='coerce')\n"
   ]
  },
  {
   "cell_type": "code",
   "execution_count": 7,
   "id": "8f31704e-da02-49e2-a53f-e45a40daf851",
   "metadata": {},
   "outputs": [],
   "source": [
    "df_employee.to_csv('employee.csv', index=False)\n",
    "df_seniority.to_csv('seniority.csv', index=False)\n",
    "df_projects.to_csv('projects.csv', index=False)\n"
   ]
  },
  {
   "cell_type": "code",
   "execution_count": 9,
   "id": "58788131-e8ab-4a12-85e1-8be6b994bb4f",
   "metadata": {},
   "outputs": [
    {
     "data": {
      "text/plain": [
       "(     ID             Name Gender     City  Age\n",
       " 0  A001       John Alter      M    Paris   25\n",
       " 1  A002  Alice Luxumberg      F   London   27\n",
       " 2  A003    Tom Sabestine      M   Berlin   29\n",
       " 3  A004       Nina Adgra      F  Newyork   31\n",
       " 4  A005        Amy Johny      F   Madrid   30,\n",
       "      ID  Designation Level\n",
       " 0  A001                  2\n",
       " 1  A002                  2\n",
       " 2  A003                  3\n",
       " 3  A004                  2\n",
       " 4  A005                  3,\n",
       "       ID     Project       Cost    Status\n",
       " 0   A001   Project 1  1002000.0  Finished\n",
       " 1   A002   Project 2  2000000.0   Ongoing\n",
       " 2   A003   Project 3  4500000.0  Finished\n",
       " 3   A004   Project 4  5500000.0   Ongoing\n",
       " 4   A005   Project 5        NaN  Finished\n",
       " 5   A002   Project 6   680000.0    Failed\n",
       " 6   A005   Project 7   400000.0  Finished\n",
       " 7   A003   Project 8   350000.0    Failed\n",
       " 8   A001   Project 9        NaN   Ongoing\n",
       " 9   A003  Project 10   300000.0  Finished\n",
       " 10  A001  Project 11  2000000.0    Failed\n",
       " 11  A004  Project 12  1000000.0   Ongoing\n",
       " 12  A004  Project 13  3000000.0  Finished\n",
       " 13  A005  Project 14   200000.0  Finished)"
      ]
     },
     "execution_count": 9,
     "metadata": {},
     "output_type": "execute_result"
    }
   ],
   "source": [
    "df_employee,df_seniority,df_projects"
   ]
  },
  {
   "cell_type": "code",
   "execution_count": null,
   "id": "f174e905-3dd2-4fd2-854e-4f359c16a27f",
   "metadata": {},
   "outputs": [],
   "source": []
  },
  {
   "cell_type": "code",
   "execution_count": null,
   "id": "40372b8a-9364-4cce-9d63-7b9e9d5255b3",
   "metadata": {},
   "outputs": [],
   "source": [
    "##Task 2 : The cost column in the dataframe “Project” has some missing values. Your task is to compute these missing values. Replace the missing values by running average. You \n",
    "## should use the “For” loop for this task. "
   ]
  },
  {
   "cell_type": "code",
   "execution_count": null,
   "id": "1d420c74-e3d0-4367-9d36-12bdc2cc76f3",
   "metadata": {},
   "outputs": [],
   "source": []
  },
  {
   "cell_type": "code",
   "execution_count": 36,
   "id": "75ee1344-4ece-4239-aaca-938dbd0026ae",
   "metadata": {},
   "outputs": [
    {
     "name": "stdout",
     "output_type": "stream",
     "text": [
      "      ID     Project       Cost    Status\n",
      "0   A001   Project 1  1002000.0  Finished\n",
      "1   A002   Project 2  2000000.0   Ongoing\n",
      "2   A003   Project 3  4500000.0  Finished\n",
      "3   A004   Project 4  5500000.0   Ongoing\n",
      "4   A005   Project 5  3250500.0  Finished\n",
      "5   A002   Project 6   680000.0    Failed\n",
      "6   A005   Project 7   400000.0  Finished\n",
      "7   A003   Project 8   350000.0    Failed\n",
      "8   A001   Project 9  2210312.5   Ongoing\n",
      "9   A003  Project 10   300000.0  Finished\n",
      "10  A001  Project 11  2000000.0    Failed\n",
      "11  A004  Project 12  1000000.0   Ongoing\n",
      "12  A004  Project 13  3000000.0  Finished\n",
      "13  A005  Project 14   200000.0  Finished\n"
     ]
    }
   ],
   "source": [
    "\n",
    "\n",
    "# Step 1: Load the projects.csv file\n",
    "df_projects = pd.read_csv('projects.csv')\n",
    "\n",
    "# Step 2: Convert 'Cost' to numpy array\n",
    "costs = df_projects['Cost'].values\n",
    "\n",
    "# Step 3: Initialize a list to store the filled values\n",
    "filled_costs = []\n",
    "\n",
    "# Step 4: Loop over the array to replace NaNs with running average\n",
    "for i in range(len(costs)):\n",
    "    if not np.isnan(costs[i]):\n",
    "        filled_costs.append(costs[i])\n",
    "    else:\n",
    "        # Calculate average of previous non-NaN values\n",
    "        if i == 0:\n",
    "            filled_costs.append(0)  # or leave it as NaN if desired\n",
    "        else:\n",
    "            prev_values = filled_costs[:i]\n",
    "            avg = np.mean(prev_values) if prev_values else 0\n",
    "            filled_costs.append(avg)\n",
    "\n",
    "# Step 5: Assign back to the DataFrame\n",
    "df_projects['Cost'] = filled_costs\n",
    "\n",
    "# Step 6: View updated DataFrame\n",
    "print(df_projects)\n",
    "\n",
    "# Optional: Save the cleaned file\n",
    "df_projects.to_csv('projects_cleaned.csv', index=False)\n"
   ]
  },
  {
   "cell_type": "code",
   "execution_count": null,
   "id": "52f3cb11-7815-44ab-8203-a014c02af64a",
   "metadata": {},
   "outputs": [],
   "source": []
  },
  {
   "cell_type": "code",
   "execution_count": null,
   "id": "74a2c04c-4a27-4528-a193-c389a35490b4",
   "metadata": {},
   "outputs": [],
   "source": [
    "## Task 3 : Split the name column in the Employee dataframe into two new columns “First Name”, and “Last Name” and remove the older “name” column. "
   ]
  },
  {
   "cell_type": "code",
   "execution_count": null,
   "id": "18f74ab7-c926-469b-9d78-06977986077a",
   "metadata": {},
   "outputs": [],
   "source": []
  },
  {
   "cell_type": "code",
   "execution_count": 12,
   "id": "29e98180-1cfc-45d8-8c51-af3f157f4aa6",
   "metadata": {},
   "outputs": [
    {
     "name": "stdout",
     "output_type": "stream",
     "text": [
      "     ID Gender     City  Age First Name  Last Name\n",
      "0  A001      M    Paris   25       John      Alter\n",
      "1  A002      F   London   27      Alice  Luxumberg\n",
      "2  A003      M   Berlin   29        Tom  Sabestine\n",
      "3  A004      F  Newyork   31       Nina      Adgra\n",
      "4  A005      F   Madrid   30        Amy      Johny\n"
     ]
    }
   ],
   "source": [
    "import pandas as pd\n",
    "import numpy as np\n",
    "\n",
    "# Step 1: Load employee data\n",
    "df_employee = pd.read_csv('employee.csv')\n",
    "\n",
    "# Step 2: Use a loop to split names into two arrays\n",
    "first_names = []\n",
    "last_names = []\n",
    "\n",
    "for name in df_employee['Name']:\n",
    "    split_name = name.strip().split(\" \", 1)  # Split only on first space\n",
    "    first_names.append(split_name[0])\n",
    "    last_names.append(split_name[1] if len(split_name) > 1 else \"\")\n",
    "\n",
    "# Step 3: Assign new columns\n",
    "df_employee['First Name'] = first_names\n",
    "df_employee['Last Name'] = last_names\n",
    "\n",
    "# Step 4: Drop the old 'Name' column\n",
    "df_employee.drop('Name', axis=1, inplace=True)\n",
    "\n",
    "# Step 5: Show updated DataFrame\n",
    "print(df_employee)\n",
    "\n",
    "# Step 6: Save the updated employee file (optional)\n",
    "df_employee.to_csv('employee_cleaned.csv', index=False)\n"
   ]
  },
  {
   "cell_type": "code",
   "execution_count": null,
   "id": "b9f79da4-5ef1-4b28-a853-5d30f12d4885",
   "metadata": {},
   "outputs": [],
   "source": []
  },
  {
   "cell_type": "code",
   "execution_count": null,
   "id": "d5d6a45b-e5c2-4ca0-8434-51f1d9eb280f",
   "metadata": {},
   "outputs": [],
   "source": [
    "## Task 4 : Join all three dataframes in one single dataframe. Name it “Final” "
   ]
  },
  {
   "cell_type": "code",
   "execution_count": 13,
   "id": "2737aff6-c0e8-401f-abaf-86ecf0326144",
   "metadata": {},
   "outputs": [
    {
     "name": "stdout",
     "output_type": "stream",
     "text": [
      "      ID     Project       Cost    Status Gender     City  Age First Name  \\\n",
      "0   A001   Project 1  1002000.0  Finished      M    Paris   25       John   \n",
      "1   A002   Project 2  2000000.0   Ongoing      F   London   27      Alice   \n",
      "2   A003   Project 3  4500000.0  Finished      M   Berlin   29        Tom   \n",
      "3   A004   Project 4  5500000.0   Ongoing      F  Newyork   31       Nina   \n",
      "4   A005   Project 5  3250500.0  Finished      F   Madrid   30        Amy   \n",
      "5   A002   Project 6   680000.0    Failed      F   London   27      Alice   \n",
      "6   A005   Project 7   400000.0  Finished      F   Madrid   30        Amy   \n",
      "7   A003   Project 8   350000.0    Failed      M   Berlin   29        Tom   \n",
      "8   A001   Project 9  2210312.5   Ongoing      M    Paris   25       John   \n",
      "9   A003  Project 10   300000.0  Finished      M   Berlin   29        Tom   \n",
      "10  A001  Project 11  2000000.0    Failed      M    Paris   25       John   \n",
      "11  A004  Project 12  1000000.0   Ongoing      F  Newyork   31       Nina   \n",
      "12  A004  Project 13  3000000.0  Finished      F  Newyork   31       Nina   \n",
      "13  A005  Project 14   200000.0  Finished      F   Madrid   30        Amy   \n",
      "\n",
      "    Last Name  Designation Level  \n",
      "0       Alter                  2  \n",
      "1   Luxumberg                  2  \n",
      "2   Sabestine                  3  \n",
      "3       Adgra                  2  \n",
      "4       Johny                  3  \n",
      "5   Luxumberg                  2  \n",
      "6       Johny                  3  \n",
      "7   Sabestine                  3  \n",
      "8       Alter                  2  \n",
      "9   Sabestine                  3  \n",
      "10      Alter                  2  \n",
      "11      Adgra                  2  \n",
      "12      Adgra                  2  \n",
      "13      Johny                  3  \n"
     ]
    }
   ],
   "source": [
    "import pandas as pd\n",
    "import numpy as np\n",
    "\n",
    "# Step 1: Load all three CSVs\n",
    "df_employee = pd.read_csv('employee_cleaned.csv')      # With First/Last Name\n",
    "df_seniority = pd.read_csv('seniority.csv')            # Designation Level\n",
    "df_projects = pd.read_csv('projects_cleaned.csv')      # Project info with fixed Cost\n",
    "\n",
    "# Step 2: Merge employee + seniority on 'ID'\n",
    "df_emp_seniority = pd.merge(df_employee, df_seniority, on='ID')\n",
    "\n",
    "# Step 3: Merge the result with projects on 'ID'\n",
    "Final = pd.merge(df_projects, df_emp_seniority, on='ID')\n",
    "\n",
    "# Step 4: View and optionally save the Final DataFrame\n",
    "print(Final)\n",
    "\n",
    "# Save to CSV (optional)\n",
    "Final.to_csv('final.csv', index=False)\n"
   ]
  },
  {
   "cell_type": "code",
   "execution_count": null,
   "id": "49419e9c-fef4-420f-909d-da63c08d3b8f",
   "metadata": {
    "jupyter": {
     "source_hidden": true
    }
   },
   "outputs": [],
   "source": []
  },
  {
   "cell_type": "code",
   "execution_count": null,
   "id": "4b6cb6eb-5977-4432-8228-aca4436f24f7",
   "metadata": {},
   "outputs": [],
   "source": [
    "## Task 5 Add a new bonus column in the Final dataframe. Give a 5% bonus concerning project  cost only to employees who have finished the projects. "
   ]
  },
  {
   "cell_type": "code",
   "execution_count": null,
   "id": "a784fb24-fd20-464c-880a-fff4791e70a6",
   "metadata": {},
   "outputs": [],
   "source": []
  },
  {
   "cell_type": "code",
   "execution_count": 15,
   "id": "fe4c8bca-6a51-4803-8456-c11dff9c4ee7",
   "metadata": {},
   "outputs": [
    {
     "name": "stdout",
     "output_type": "stream",
     "text": [
      "      ID     Project       Cost    Status Gender     City  Age First Name  \\\n",
      "0   A001   Project 1  1002000.0  Finished      M    Paris   25       John   \n",
      "1   A002   Project 2  2000000.0   Ongoing      F   London   27      Alice   \n",
      "2   A003   Project 3  4500000.0  Finished      M   Berlin   29        Tom   \n",
      "3   A004   Project 4  5500000.0   Ongoing      F  Newyork   31       Nina   \n",
      "4   A005   Project 5  3250500.0  Finished      F   Madrid   30        Amy   \n",
      "5   A002   Project 6   680000.0    Failed      F   London   27      Alice   \n",
      "6   A005   Project 7   400000.0  Finished      F   Madrid   30        Amy   \n",
      "7   A003   Project 8   350000.0    Failed      M   Berlin   29        Tom   \n",
      "8   A001   Project 9  2210312.5   Ongoing      M    Paris   25       John   \n",
      "9   A003  Project 10   300000.0  Finished      M   Berlin   29        Tom   \n",
      "10  A001  Project 11  2000000.0    Failed      M    Paris   25       John   \n",
      "11  A004  Project 12  1000000.0   Ongoing      F  Newyork   31       Nina   \n",
      "12  A004  Project 13  3000000.0  Finished      F  Newyork   31       Nina   \n",
      "13  A005  Project 14   200000.0  Finished      F   Madrid   30        Amy   \n",
      "\n",
      "    Last Name  Designation Level     Bonus  \n",
      "0       Alter                  2   50100.0  \n",
      "1   Luxumberg                  2       0.0  \n",
      "2   Sabestine                  3  225000.0  \n",
      "3       Adgra                  2       0.0  \n",
      "4       Johny                  3  162525.0  \n",
      "5   Luxumberg                  2       0.0  \n",
      "6       Johny                  3   20000.0  \n",
      "7   Sabestine                  3       0.0  \n",
      "8       Alter                  2       0.0  \n",
      "9   Sabestine                  3   15000.0  \n",
      "10      Alter                  2       0.0  \n",
      "11      Adgra                  2       0.0  \n",
      "12      Adgra                  2  150000.0  \n",
      "13      Johny                  3   10000.0  \n"
     ]
    }
   ],
   "source": [
    "import pandas as pd\n",
    "import numpy as np\n",
    "\n",
    "# Step 1: Load the Final dataframe\n",
    "Final = pd.read_csv('final.csv')\n",
    "\n",
    "# Step 2: Initialize bonus list\n",
    "bonus_list = []\n",
    "\n",
    "# Step 3: Loop to calculate bonus\n",
    "for i in range(len(Final)):\n",
    "    status = Final.loc[i, 'Status']\n",
    "    cost = Final.loc[i, 'Cost']\n",
    "    \n",
    "    if status == 'Finished':\n",
    "        bonus = 0.05 * cost\n",
    "    else:\n",
    "        bonus = 0\n",
    "    bonus_list.append(bonus)\n",
    "\n",
    "# Step 4: Add the Bonus column\n",
    "Final['Bonus'] = bonus_list\n",
    "\n",
    "# Step 5: View and optionally save the updated DataFrame\n",
    "print(Final)\n",
    "\n",
    "# Optional: Save it\n",
    "Final.to_csv('final_with_bonus.csv', index=False)\n"
   ]
  },
  {
   "cell_type": "code",
   "execution_count": null,
   "id": "a249e32c-2e08-4bf2-bbd2-5f4af8a873be",
   "metadata": {},
   "outputs": [],
   "source": []
  },
  {
   "cell_type": "code",
   "execution_count": null,
   "id": "3fe652a6-06e5-4bdc-a1de-0c6e91a262f9",
   "metadata": {},
   "outputs": [],
   "source": [
    "## Task 6  Demote the designation level by 1, whose projects have status “fail”. Delete the  employees record whose designation level is above 4. "
   ]
  },
  {
   "cell_type": "code",
   "execution_count": null,
   "id": "04369746-56c3-4bd4-a1e5-b0df98f5fa62",
   "metadata": {},
   "outputs": [],
   "source": []
  },
  {
   "cell_type": "code",
   "execution_count": 25,
   "id": "30ecda04-0aee-4948-87de-68380ac521dd",
   "metadata": {},
   "outputs": [
    {
     "name": "stdout",
     "output_type": "stream",
     "text": [
      "      ID     Project       Cost    Status Gender     City  Age First Name  \\\n",
      "0   A001   Project 1  1002000.0  Finished      M    Paris   25       John   \n",
      "1   A002   Project 2  2000000.0   Ongoing      F   London   27      Alice   \n",
      "2   A003   Project 3  4500000.0  Finished      M   Berlin   29        Tom   \n",
      "3   A004   Project 4  5500000.0   Ongoing      F  Newyork   31       Nina   \n",
      "4   A005   Project 5  3250500.0  Finished      F   Madrid   30        Amy   \n",
      "5   A002   Project 6   680000.0    Failed      F   London   27      Alice   \n",
      "6   A005   Project 7   400000.0  Finished      F   Madrid   30        Amy   \n",
      "8   A001   Project 9  2210312.5   Ongoing      M    Paris   25       John   \n",
      "9   A003  Project 10   300000.0  Finished      M   Berlin   29        Tom   \n",
      "10  A001  Project 11  2000000.0    Failed      M    Paris   25       John   \n",
      "11  A004  Project 12  1000000.0   Ongoing      F  Newyork   31       Nina   \n",
      "12  A004  Project 13  3000000.0  Finished      F  Newyork   31       Nina   \n",
      "13  A005  Project 14   200000.0  Finished      F   Madrid   30        Amy   \n",
      "\n",
      "    Last Name     Bonus  Designation Level  \n",
      "0       Alter   50100.0                  2  \n",
      "1   Luxumberg       0.0                  2  \n",
      "2   Sabestine  225000.0                  3  \n",
      "3       Adgra       0.0                  2  \n",
      "4       Johny  162525.0                  3  \n",
      "5   Luxumberg       0.0                  3  \n",
      "6       Johny   20000.0                  3  \n",
      "8       Alter       0.0                  2  \n",
      "9   Sabestine   15000.0                  3  \n",
      "10      Alter       0.0                  3  \n",
      "11      Adgra       0.0                  2  \n",
      "12      Adgra  150000.0                  2  \n",
      "13      Johny   10000.0                  3  \n"
     ]
    }
   ],
   "source": [
    "import pandas as pd\n",
    "import numpy as np\n",
    "\n",
    "# Step 1: Load the final DataFrame with bonus\n",
    "Final = pd.read_csv('final_with_bonus.csv')\n",
    "\n",
    "# Step 2: Create a copy of Designation Level for manipulation\n",
    "Final['Updated Designation Level'] = Final['Designation Level']\n",
    "\n",
    "# Step 3: Loop to demote designation for failed projects\n",
    "for i in range(len(Final)):\n",
    "    if Final.loc[i, 'Status'] == 'Failed':\n",
    "        Final.loc[i, 'Updated Designation Level'] += 1  # Demote = increase numeric level\n",
    "\n",
    "# Step 4: Filter out records where designation level > 4 (ineligible)\n",
    "Final = Final[Final['Updated Designation Level'] < 4]\n",
    "\n",
    "# Step 5: (Optional) Drop the old designation level and rename the updated one\n",
    "Final.drop(columns=['Designation Level'], inplace=True)\n",
    "Final.rename(columns={'Updated Designation Level': 'Designation Level'}, inplace=True)\n",
    "\n",
    "# Step 6: View the cleaned DataFrame\n",
    "print(Final)\n",
    "# Optional: Save to new CSV\n",
    "Final.to_csv('final_cleaned.csv', index=False)\n"
   ]
  },
  {
   "cell_type": "code",
   "execution_count": null,
   "id": "3c180950-6d3a-47a1-aa5f-02ae15f25049",
   "metadata": {},
   "outputs": [],
   "source": []
  },
  {
   "cell_type": "code",
   "execution_count": null,
   "id": "afbe1425-e311-4e71-9569-fa641716a690",
   "metadata": {},
   "outputs": [],
   "source": [
    "## Task 7 Add “Mr.” and “Mrs.” to the first name column and drop the gender column."
   ]
  },
  {
   "cell_type": "code",
   "execution_count": null,
   "id": "57685c8e-0a66-4439-bf5a-263a7b47d7e4",
   "metadata": {},
   "outputs": [],
   "source": []
  },
  {
   "cell_type": "code",
   "execution_count": 27,
   "id": "24b1abde-d3b9-4972-8beb-68f1c6b457c2",
   "metadata": {},
   "outputs": [],
   "source": [
    "##Step 1: Load the latest cleaned file\n",
    "Final = pd.read_csv('final_cleaned.csv')\n",
    "\n",
    "# Step 2: Initialize a new list to hold modified first names\n",
    "titled_first_names = []\n",
    "\n",
    "# Step 3: Loop to assign titles based on gender\n",
    "for i in range(len(Final)):\n",
    "    gender = Final.loc[i, 'Gender']\n",
    "    first_name = Final.loc[i, 'First Name']\n",
    "    \n",
    "    if gender == 'M':\n",
    "        titled_first_names.append(\"Mr. \" + first_name)\n",
    "    elif gender == 'F':\n",
    "        titled_first_names.append(\"Mrs. \" + first_name)\n",
    "    else:\n",
    "        titled_first_names.append(first_name)  # fallback for unknown\n",
    "\n",
    "# Step 4: Assign back to the DataFrame\n",
    "Final['First Name'] = titled_first_names\n",
    "\n",
    "# Step 5: Drop Gender column\n",
    "Final.drop(columns=['Gender'], inplace=True)\n"
   ]
  },
  {
   "cell_type": "code",
   "execution_count": 29,
   "id": "a575374b-a3fe-409c-b4f2-a9ee11ba7f54",
   "metadata": {},
   "outputs": [
    {
     "name": "stdout",
     "output_type": "stream",
     "text": [
      "      ID     Project       Cost    Status     City  Age  First Name  \\\n",
      "0   A001   Project 1  1002000.0  Finished    Paris   25    Mr. John   \n",
      "1   A002   Project 2  2000000.0   Ongoing   London   27  Mrs. Alice   \n",
      "2   A003   Project 3  4500000.0  Finished   Berlin   29     Mr. Tom   \n",
      "3   A004   Project 4  5500000.0   Ongoing  Newyork   31   Mrs. Nina   \n",
      "4   A005   Project 5  3250500.0  Finished   Madrid   30    Mrs. Amy   \n",
      "5   A002   Project 6   680000.0    Failed   London   27  Mrs. Alice   \n",
      "6   A005   Project 7   400000.0  Finished   Madrid   30    Mrs. Amy   \n",
      "7   A001   Project 9  2210312.5   Ongoing    Paris   25    Mr. John   \n",
      "8   A003  Project 10   300000.0  Finished   Berlin   29     Mr. Tom   \n",
      "9   A001  Project 11  2000000.0    Failed    Paris   25    Mr. John   \n",
      "10  A004  Project 12  1000000.0   Ongoing  Newyork   31   Mrs. Nina   \n",
      "11  A004  Project 13  3000000.0  Finished  Newyork   31   Mrs. Nina   \n",
      "12  A005  Project 14   200000.0  Finished   Madrid   30    Mrs. Amy   \n",
      "\n",
      "    Last Name     Bonus  Designation Level  \n",
      "0       Alter   50100.0                  2  \n",
      "1   Luxumberg       0.0                  2  \n",
      "2   Sabestine  225000.0                  3  \n",
      "3       Adgra       0.0                  2  \n",
      "4       Johny  162525.0                  3  \n",
      "5   Luxumberg       0.0                  3  \n",
      "6       Johny   20000.0                  3  \n",
      "7       Alter       0.0                  2  \n",
      "8   Sabestine   15000.0                  3  \n",
      "9       Alter       0.0                  3  \n",
      "10      Adgra       0.0                  2  \n",
      "11      Adgra  150000.0                  2  \n",
      "12      Johny   10000.0                  3  \n"
     ]
    }
   ],
   "source": [
    "# Step 6: View and save\n",
    "print(Final)\n",
    "\n",
    "# Optional: Save\n",
    "Final.to_csv('final_with_titles.csv', index=False)"
   ]
  },
  {
   "cell_type": "code",
   "execution_count": null,
   "id": "54a84533-9ad4-455a-8b62-d6c2d0652af2",
   "metadata": {},
   "outputs": [],
   "source": []
  },
  {
   "cell_type": "code",
   "execution_count": null,
   "id": "7ff0c9de-8f65-4724-9c1c-38fd4bb9a928",
   "metadata": {},
   "outputs": [],
   "source": [
    "## Task 8 Promote designation level by 1 for the employees whose age is more than 29 years using IF condition. "
   ]
  },
  {
   "cell_type": "code",
   "execution_count": null,
   "id": "73977b70-61b1-44b9-b12e-ba78690465ef",
   "metadata": {},
   "outputs": [],
   "source": []
  },
  {
   "cell_type": "code",
   "execution_count": 30,
   "id": "e1dc4f70-684a-481c-8825-b5fbe50275d0",
   "metadata": {},
   "outputs": [],
   "source": [
    "\n",
    "# Step 1: Load the file with titles\n",
    "Final = pd.read_csv('final_with_titles.csv')\n",
    "\n",
    "# Step 2: Loop through to apply promotion\n",
    "for i in range(len(Final)):\n",
    "    age = Final.loc[i, 'Age']\n",
    "    level = Final.loc[i, 'Designation Level']\n",
    "    \n",
    "    # Step 3: Apply promotion condition\n",
    "    if age > 29 and level > 1:\n",
    "        Final.loc[i, 'Designation Level'] = level - 1"
   ]
  },
  {
   "cell_type": "code",
   "execution_count": 32,
   "id": "3de9a034-5105-4f86-a17d-11b27c499a1a",
   "metadata": {},
   "outputs": [
    {
     "name": "stdout",
     "output_type": "stream",
     "text": [
      "      ID     Project       Cost    Status     City  Age  First Name  \\\n",
      "0   A001   Project 1  1002000.0  Finished    Paris   25    Mr. John   \n",
      "1   A002   Project 2  2000000.0   Ongoing   London   27  Mrs. Alice   \n",
      "2   A003   Project 3  4500000.0  Finished   Berlin   29     Mr. Tom   \n",
      "3   A004   Project 4  5500000.0   Ongoing  Newyork   31   Mrs. Nina   \n",
      "4   A005   Project 5  3250500.0  Finished   Madrid   30    Mrs. Amy   \n",
      "5   A002   Project 6   680000.0    Failed   London   27  Mrs. Alice   \n",
      "6   A005   Project 7   400000.0  Finished   Madrid   30    Mrs. Amy   \n",
      "7   A001   Project 9  2210312.5   Ongoing    Paris   25    Mr. John   \n",
      "8   A003  Project 10   300000.0  Finished   Berlin   29     Mr. Tom   \n",
      "9   A001  Project 11  2000000.0    Failed    Paris   25    Mr. John   \n",
      "10  A004  Project 12  1000000.0   Ongoing  Newyork   31   Mrs. Nina   \n",
      "11  A004  Project 13  3000000.0  Finished  Newyork   31   Mrs. Nina   \n",
      "12  A005  Project 14   200000.0  Finished   Madrid   30    Mrs. Amy   \n",
      "\n",
      "    Last Name     Bonus  Designation Level  \n",
      "0       Alter   50100.0                  2  \n",
      "1   Luxumberg       0.0                  2  \n",
      "2   Sabestine  225000.0                  3  \n",
      "3       Adgra       0.0                  1  \n",
      "4       Johny  162525.0                  2  \n",
      "5   Luxumberg       0.0                  3  \n",
      "6       Johny   20000.0                  2  \n",
      "7       Alter       0.0                  2  \n",
      "8   Sabestine   15000.0                  3  \n",
      "9       Alter       0.0                  3  \n",
      "10      Adgra       0.0                  1  \n",
      "11      Adgra  150000.0                  1  \n",
      "12      Johny   10000.0                  2  \n"
     ]
    }
   ],
   "source": [
    "# Step 4: View result\n",
    "print(Final)\n",
    "# Step 5: Save the updated version\n",
    "Final.to_csv('final_promoted.csv', index=False)"
   ]
  },
  {
   "cell_type": "code",
   "execution_count": null,
   "id": "b7f884ec-fc9b-457d-8b73-a5a4f6a91d72",
   "metadata": {},
   "outputs": [],
   "source": []
  },
  {
   "cell_type": "code",
   "execution_count": null,
   "id": "410d0450-9871-45db-8f7d-b7c8542a9f04",
   "metadata": {},
   "outputs": [],
   "source": [
    "## Task 9 Add the cost of all projects for each Employee and save it in new dataframe “TotalProjCost” with three columns ID, First Name, and Total cost "
   ]
  },
  {
   "cell_type": "code",
   "execution_count": null,
   "id": "8c879ab2-da0f-4623-8e66-aa0cbc91de0c",
   "metadata": {},
   "outputs": [],
   "source": []
  },
  {
   "cell_type": "code",
   "execution_count": 34,
   "id": "5bdb0768-378a-44aa-b273-5f03a3fb82ae",
   "metadata": {},
   "outputs": [
    {
     "name": "stdout",
     "output_type": "stream",
     "text": [
      "     ID  First Name  Total Cost\n",
      "0  A001    Mr. John   5212312.5\n",
      "1  A002  Mrs. Alice   2680000.0\n",
      "2  A003     Mr. Tom   4800000.0\n",
      "3  A004   Mrs. Nina   9500000.0\n",
      "4  A005    Mrs. Amy   3850500.0\n"
     ]
    }
   ],
   "source": [
    "\n",
    "# Step 1: Load the promoted data\n",
    "Final = pd.read_csv('final_promoted.csv')\n",
    "\n",
    "# Step 2: Get unique employee IDs and first names\n",
    "unique_ids = Final['ID'].unique()\n",
    "\n",
    "# Step 3: Initialize list to store total cost per employee\n",
    "total_cost_data = []\n",
    "\n",
    "# Step 4: Loop to calculate total project cost per employee\n",
    "for emp_id in unique_ids:\n",
    "    emp_data = Final[Final['ID'] == emp_id]\n",
    "    total_cost = emp_data['Cost'].sum()\n",
    "    first_name = emp_data.iloc[0]['First Name']\n",
    "    \n",
    "    total_cost_data.append([emp_id, first_name, total_cost])\n",
    "\n",
    "# Step 5: Create new DataFrame\n",
    "TotalProjCost = pd.DataFrame(total_cost_data, columns=['ID', 'First Name', 'Total Cost'])\n",
    "\n",
    "# Step 6: View and save\n",
    "print(TotalProjCost)\n",
    "\n",
    "# Optional: Save to CSV\n",
    "TotalProjCost.to_csv('total_project_cost.csv', index=False)"
   ]
  },
  {
   "cell_type": "code",
   "execution_count": null,
   "id": "aeacbb4a-4f37-4c32-9ece-c7888857729e",
   "metadata": {
    "jupyter": {
     "source_hidden": true
    }
   },
   "outputs": [],
   "source": []
  },
  {
   "cell_type": "code",
   "execution_count": 37,
   "id": "2a5d6aa2-05f2-4804-a658-47a87e63ff8c",
   "metadata": {},
   "outputs": [],
   "source": [
    "## Print all the employee details whose city name contains the letter “o” in it. "
   ]
  },
  {
   "cell_type": "code",
   "execution_count": null,
   "id": "cab24ec5-6953-4475-9a8c-7a71df231ae2",
   "metadata": {},
   "outputs": [],
   "source": []
  },
  {
   "cell_type": "code",
   "execution_count": 35,
   "id": "3c787ff9-5edc-4d9d-a784-31df499d9070",
   "metadata": {},
   "outputs": [
    {
     "name": "stdout",
     "output_type": "stream",
     "text": [
      "      ID     Project       Cost    Status     City  Age  First Name  \\\n",
      "1   A002   Project 2  2000000.0   Ongoing   London   27  Mrs. Alice   \n",
      "3   A004   Project 4  5500000.0   Ongoing  Newyork   31   Mrs. Nina   \n",
      "5   A002   Project 6   680000.0    Failed   London   27  Mrs. Alice   \n",
      "10  A004  Project 12  1000000.0   Ongoing  Newyork   31   Mrs. Nina   \n",
      "11  A004  Project 13  3000000.0  Finished  Newyork   31   Mrs. Nina   \n",
      "\n",
      "    Last Name     Bonus  Designation Level  \n",
      "1   Luxumberg       0.0                  2  \n",
      "3       Adgra       0.0                  1  \n",
      "5   Luxumberg       0.0                  3  \n",
      "10      Adgra       0.0                  1  \n",
      "11      Adgra  150000.0                  1  \n"
     ]
    }
   ],
   "source": [
    "\n",
    "# Step 1: Load the latest promoted dataset\n",
    "Final = pd.read_csv('final_promoted.csv')\n",
    "\n",
    "# Step 2: Create an empty list to store matching rows\n",
    "matching_rows = []\n",
    "\n",
    "# Step 3: Loop to check if 'o' is in the city name\n",
    "for i in range(len(Final)):\n",
    "    city = Final.loc[i, 'City']\n",
    "    if 'o' in city.lower():  # case-insensitive match\n",
    "        matching_rows.append(Final.loc[i])\n",
    "\n",
    "# Step 4: Create new DataFrame from matched rows\n",
    "EmployeesWithO = pd.DataFrame(matching_rows)\n",
    "\n",
    "# Step 5: View result\n",
    "print(EmployeesWithO)"
   ]
  },
  {
   "cell_type": "code",
   "execution_count": null,
   "id": "103cb43d-9702-49c6-b689-dbfe4bb6fdd8",
   "metadata": {},
   "outputs": [],
   "source": []
  }
 ],
 "metadata": {
  "kernelspec": {
   "display_name": "Python 3 (ipykernel)",
   "language": "python",
   "name": "python3"
  },
  "language_info": {
   "codemirror_mode": {
    "name": "ipython",
    "version": 3
   },
   "file_extension": ".py",
   "mimetype": "text/x-python",
   "name": "python",
   "nbconvert_exporter": "python",
   "pygments_lexer": "ipython3",
   "version": "3.12.7"
  }
 },
 "nbformat": 4,
 "nbformat_minor": 5
}
